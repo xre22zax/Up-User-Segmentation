{
 "cells": [
  {
   "cell_type": "markdown",
   "id": "d7444250",
   "metadata": {},
   "source": [
    "# Knowing Dataset"
   ]
  },
  {
   "cell_type": "code",
   "execution_count": null,
   "id": "17a0bc22",
   "metadata": {},
   "outputs": [],
   "source": [
    "# Import needed libraries\n",
    "\n",
    "import pandas as pd\n",
    "from sklearn.preprocessing import StandardScaler\n",
    "from sklearn.cluster import KMeans\n",
    "import matplotlib.pyplot as plt\n",
    "import seaborn as sns\n",
    "import numpy as np\n",
    "from datetime import datetime\n",
    "import bidi.algorithm\n",
    "from bidi.algorithm import get_display\n",
    "import arabic_reshaper\n",
    "\n",
    "# Load the data\n",
    "\n",
    "df = pd.read_excel('cp-for-task.xlsx')\n",
    "df.describe()"
   ]
  },
  {
   "cell_type": "markdown",
   "id": "1f75b273",
   "metadata": {},
   "source": [
    "# Convert Iran Date to Universal"
   ]
  },
  {
   "cell_type": "code",
   "execution_count": null,
   "id": "9669b6cd",
   "metadata": {},
   "outputs": [],
   "source": [
    "# Convert FirstTrsDate & LastTrsDate to universal dates\n",
    "def convert_to_gregorian(date_float):\n",
    "    try:\n",
    "        # Convert the float to a string and extract the date components\n",
    "        date_str = str(int(date_float)).zfill(8)  # Ensure the string is 8 characters long\n",
    "        year = int(date_str[:4])\n",
    "        month = int(date_str[4:6])\n",
    "        day = int(date_str[6:8])\n",
    "        \n",
    "        # Attempt to create a datetime object\n",
    "        gregorian_date = datetime(year, month, day)\n",
    "        \n",
    "        # Return the formatted date\n",
    "        return gregorian_date.strftime('%d-%m-%Y')\n",
    "    except ValueError as e:\n",
    "        # Handle the error\n",
    "        return 0\n",
    "\n",
    "# Use function for df\n",
    "df['FirstTrsDate_Gregorian'] = df['FirstTrsDate'].apply(convert_to_gregorian)\n",
    "df['LastTrsDate_Gregorian'] = df['LastTrsDate'].apply(convert_to_gregorian)\n",
    "\n",
    "# Convert Iranian dates from 'DD-MM-YYYY' to pandas datetime format (Gregorian calendar)\n",
    "df['FirstTrsDate_Gregorian'] = pd.to_datetime(df['FirstTrsDate_Gregorian'], format='%d-%m-%Y', errors='coerce')\n",
    "df['LastTrsDate_Gregorian'] = pd.to_datetime(df['LastTrsDate_Gregorian'], format='%d-%m-%Y', errors='coerce')\n",
    "\n",
    "df.head()"
   ]
  },
  {
   "cell_type": "markdown",
   "id": "cbb7c03c",
   "metadata": {},
   "source": [
    "## Customer Lifetime Value (CLTV) \n",
    "CLV is a crucial metric that estimates the total revenue a business can reasonably expect from an average customer."
   ]
  },
  {
   "cell_type": "code",
   "execution_count": null,
   "id": "9aea0564",
   "metadata": {},
   "outputs": [],
   "source": [
    "# Calculating the average transaction value\n",
    "avg_transaction_value = df['TotalAmount'].mean()\n",
    "\n",
    "# Calculating the purchase frequency rate\n",
    "purchase_frequency_rate = df['TotalAmount'].count() / len(df)\n",
    "\n",
    "# Assuming an average lifespan of 1 year for simplicity\n",
    "avg_customer_lifespan = 1\n",
    "\n",
    "# CLTV calculation\n",
    "cltv = avg_transaction_value * purchase_frequency_rate * avg_customer_lifespan\n",
    "\n",
    "print(\"Customer Lifetime Value (CLTV):\", cltv)"
   ]
  },
  {
   "cell_type": "markdown",
   "id": "63eeb6a5",
   "metadata": {},
   "source": [
    "## Customer Retention Rate (CRR)\n",
    "CRR is a metric that measures the percentage of customers who continue to do business with a company over a specific period. It's a crucial indicator of customer loyalty and satisfaction. "
   ]
  },
  {
   "cell_type": "code",
   "execution_count": null,
   "id": "84f613fd",
   "metadata": {},
   "outputs": [],
   "source": [
    "# Number of customers at the start of the period\n",
    "customers_start_period = len(df)\n",
    "\n",
    "# Number of customers at the end of the period\n",
    "# Assuming all customers in the DataFrame are retained\n",
    "customers_end_period = len(df)\n",
    "\n",
    "# Retention Rate calculation\n",
    "retention_rate = (customers_end_period / customers_start_period) * 100\n",
    "\n",
    "print(\"Customer Retention Rate:\", retention_rate, \"%\")"
   ]
  },
  {
   "cell_type": "markdown",
   "id": "e185eb2a",
   "metadata": {},
   "source": [
    "## Customer Acquisition Cost (CAC) \n",
    "CAC is the total cost a company incurs to acquire a new customer.\n",
    "It includes all expenses related to sales and marketing efforts, such as advertising, salaries, commissions, and more."
   ]
  },
  {
   "cell_type": "code",
   "execution_count": null,
   "id": "29444a7a",
   "metadata": {},
   "outputs": [],
   "source": [
    "# Total marketing spend\n",
    "total_marketing_spend = df['TotalAmount'].sum()\n",
    "\n",
    "# Number of customers acquired\n",
    "num_customers_acquired = len(df)\n",
    "\n",
    "# CAC calculation\n",
    "cac = total_marketing_spend / num_customers_acquired\n",
    "\n",
    "print(\"Customer Acquisition Cost (CAC):\", cac)"
   ]
  },
  {
   "cell_type": "markdown",
   "id": "0f1b0965",
   "metadata": {},
   "source": [
    "## Average Value Of Users"
   ]
  },
  {
   "cell_type": "code",
   "execution_count": null,
   "id": "f25ce502",
   "metadata": {},
   "outputs": [],
   "source": [
    "# Average Value of Users calculation\n",
    "avg_value_users = int(df['TotalAmount'].mean())\n",
    "\n",
    "print(\"Average Value of Users:\", avg_value_users)"
   ]
  },
  {
   "cell_type": "markdown",
   "id": "ba097d5d",
   "metadata": {},
   "source": [
    "## Churn Rate & User Share\n",
    "User Share is percentage of active users (users who are not churned"
   ]
  },
  {
   "cell_type": "code",
   "execution_count": null,
   "id": "f2d3fa17",
   "metadata": {},
   "outputs": [],
   "source": [
    "# Set current_date to the last date in the dataset\n",
    "current_date = df['LastTrsDate_Gregorian'].max()\n",
    "\n",
    "# Calculate Recency (days since last transaction)\n",
    "df['Recency'] = (current_date - df['LastTrsDate_Gregorian']).dt.days\n",
    "\n",
    "# Define churn: Recency > 90 days\n",
    "churn_threshold = 30\n",
    "df['Churn'] = df['Recency'] > churn_threshold\n",
    "\n",
    "# Calculate churn rate\n",
    "churn_rate = df['Churn'].mean() * 100\n",
    "\n",
    "# Calculate user share\n",
    "total_users = len(df)\n",
    "total_active_users = df[~df['Churn']].shape[0]\n",
    "user_share = total_active_users / total_users * 100\n",
    "\n",
    "\n",
    "print(f\"User Share: {user_share:.2f}%\")\n",
    "print(\"Churn Rate:\", churn_rate, \"%\")"
   ]
  },
  {
   "cell_type": "markdown",
   "id": "ae3a3d87",
   "metadata": {},
   "source": [
    "## Average Use of App"
   ]
  },
  {
   "cell_type": "code",
   "execution_count": null,
   "id": "749f3f0e",
   "metadata": {},
   "outputs": [],
   "source": [
    "# Average Use of App calculation\n",
    "avg_use_app = df['TotalTrsApplication'].mean()\n",
    "\n",
    "# Average Use of App per Day calculation\n",
    "df['FirstAppInstallDate'] = pd.to_datetime(df['FirstAppInstallDate'])\n",
    "df['AppUsageDays'] = (df['LastTrsDate_Gregorian'] - df['FirstAppInstallDate']).dt.days\n",
    "df['AppUsageDays'] = df['AppUsageDays'].fillna(0).replace(0, 1)  # Replace 0 with 1 to avoid division by zero\n",
    "\n",
    "avg_use_app_per_day = (df['TotalTrsApplication'] / df['AppUsageDays']).mean()\n",
    "\n",
    "\n",
    "print(\"Average Use of App:\", avg_use_app)\n",
    "print(\"Average Use of App Per Day:\", avg_use_app_per_day)"
   ]
  },
  {
   "cell_type": "markdown",
   "id": "01753f22",
   "metadata": {},
   "source": [
    "## Comparing TotalAmount with SuccessfullRatio or AppErrorRatio"
   ]
  },
  {
   "cell_type": "code",
   "execution_count": null,
   "id": "54c1f08c",
   "metadata": {},
   "outputs": [],
   "source": [
    "# Comparing TotalAmount with SuccessfullRatio or AppErrorRatio\n",
    "comparison_df = df[['TotalAmount', 'SuccessfullRatio', 'AppErrorRatio']].corr()\n",
    "\n",
    "print(\"Comparison of TotalAmount with SuccessfullRatio and AppErrorRatio:\\n\", comparison_df)"
   ]
  },
  {
   "cell_type": "markdown",
   "id": "bdadde21",
   "metadata": {},
   "source": [
    "There is a strong negative correlation (-0.524491) between TotalAmount and AppErrorRatio. This means that as the TotalAmount increases, the AppErrorRatio tends to decrease significantly. In other words, higher total amounts are associated with lower error ratios."
   ]
  },
  {
   "cell_type": "markdown",
   "id": "80b6c97d",
   "metadata": {},
   "source": [
    "# Justuify Marketing Spend"
   ]
  },
  {
   "cell_type": "code",
   "execution_count": null,
   "id": "63c5fa75",
   "metadata": {},
   "outputs": [],
   "source": [
    "# If CLTV > CAC, marketing spend is justified. Otherwise, reduce or optimize marketing spend.\n",
    "if cltv > cac:\n",
    "    print(\"Marketing spend is justified. CLTV is greater than CAC.\")\n",
    "else:\n",
    "    print(\"Marketing spend is not justified. Consider reducing or optimizing marketing spend.\")"
   ]
  },
  {
   "cell_type": "markdown",
   "id": "8196e487",
   "metadata": {},
   "source": [
    "# Cohort Analysis"
   ]
  },
  {
   "cell_type": "code",
   "execution_count": null,
   "id": "f5521888",
   "metadata": {},
   "outputs": [],
   "source": [
    "# Remove hours from FirstAppInstallDate\n",
    "df['FirstAppInstallDate'] = pd.to_datetime(df['FirstAppInstallDate']).dt.date\n",
    "\n",
    "# Extract year and quarter for cohort analysis\n",
    "df['CohortYear'] = pd.to_datetime(df['FirstAppInstallDate']).dt.to_period('Y')\n",
    "df['CohortQuarter'] = pd.to_datetime(df['FirstAppInstallDate']).dt.to_period('Q')\n",
    "\n",
    "# Split ServiceUsage into individual services\n",
    "df = df.assign(ServiceUsage=df['ServiceUsage'].str.split(',')).explode('ServiceUsage')\n",
    "df['ServiceUsage'] = df['ServiceUsage'].str.strip()"
   ]
  },
  {
   "cell_type": "code",
   "execution_count": null,
   "id": "18b21670",
   "metadata": {},
   "outputs": [],
   "source": [
    "# Convert FirstAppInstallDate to datetime and extract year and quarter\n",
    "df['FirstAppInstallDate'] = pd.to_datetime(df['FirstAppInstallDate'])\n",
    "df['FirstAppInstallYear'] = df['FirstAppInstallDate'].dt.year\n",
    "df['FirstAppInstallQuarter'] = df['FirstAppInstallDate'].dt.quarter\n",
    "\n",
    "# Create a cohort identifier\n",
    "df['Cohort'] = df['FirstAppInstallYear'].astype(str) + 'Q' + df['FirstAppInstallQuarter'].astype(str)\n",
    "\n",
    "# Calculate metrics for each cohort\n",
    "cohort_data = df.groupby('Cohort').agg({\n",
    "    'TotalTrsApplication': 'sum',\n",
    "    'TotalAmount': 'sum',\n",
    "    'Mobile Number Encrypt': 'count'\n",
    "}).rename(columns={'Mobile Number Encrypt': 'UserCount'})\n",
    "\n",
    "# Visualization with x-axis duplicate years removed and y-axis grid added\n",
    "plt.figure(figsize=(12, 6))\n",
    "sns.lineplot(data=cohort_data, x=cohort_data.index, y='TotalTrsApplication', marker='o', label='Total Transactions')\n",
    "plt.title('Acquisition Cohort Analysis')\n",
    "plt.xlabel('Cohort')\n",
    "plt.ylabel('Count / Amount')\n",
    "plt.legend()\n",
    "plt.xticks(rotation=45)\n",
    "plt.grid(axis='x', alpha=0.4)\n",
    "plt.gca().set_xticks(cohort_data.index)  # Set x-ticks to match the cohorts\n",
    "plt.show()\n"
   ]
  },
  {
   "cell_type": "markdown",
   "id": "f02c2f95",
   "metadata": {},
   "source": [
    "Can you change this cohort analysis line plot so it divide by quantile have q1 - q2 - q3 - q4 only on x-axis and change it to bar plot (bars should be years with different color\n",
    " in this code:\n",
    "\n",
    "import pandas as pd\n",
    "import matplotlib.pyplot as plt\n",
    "import seaborn as sns\n",
    "\n",
    "# Convert FirstAppInstallDate to datetime and extract year and quarter\n",
    "df['FirstAppInstallDate'] = pd.to_datetime(df['FirstAppInstallDate'])\n",
    "df['FirstAppInstallYear'] = df['FirstAppInstallDate'].dt.year\n",
    "df['FirstAppInstallQuarter'] = df['FirstAppInstallDate'].dt.quarter\n",
    "\n",
    "# Create a cohort identifier\n",
    "df['Cohort'] = df['FirstAppInstallYear'].astype(str) + 'Q' + df['FirstAppInstallQuarter'].astype(str)\n",
    "\n",
    "# Calculate metrics for each cohort\n",
    "cohort_data = df.groupby('Cohort').agg({\n",
    "    'TotalTrsApplication': 'sum',\n",
    "    'TotalAmount': 'sum',\n",
    "    'Mobile Number Encrypt': 'count'\n",
    "}).rename(columns={'Mobile Number Encrypt': 'UserCount'})\n",
    "\n",
    "# Visualization with x-axis duplicate years removed and y-axis grid added\n",
    "plt.figure(figsize=(12, 6))\n",
    "sns.lineplot(data=cohort_data, x=cohort_data.index, y='TotalTrsApplication', marker='o', label='Total Transactions')\n",
    "plt.title('Acquisition Cohort Analysis')\n",
    "plt.xlabel('Cohort')\n",
    "plt.ylabel('Count / Amount')\n",
    "plt.legend()\n",
    "plt.xticks(rotation=45)\n",
    "plt.grid(axis='x', alpha=0.4)\n",
    "plt.gca().set_xticks(cohort_data.index)  # Set x-ticks to match the cohorts\n",
    "plt.show()"
   ]
  },
  {
   "cell_type": "markdown",
   "id": "2ab2bc94",
   "metadata": {},
   "source": [
    "# User Segmentation"
   ]
  },
  {
   "cell_type": "markdown",
   "id": "c73fb6d6",
   "metadata": {},
   "source": [
    "## RFM"
   ]
  },
  {
   "cell_type": "code",
   "execution_count": null,
   "id": "8d5b9b67",
   "metadata": {},
   "outputs": [],
   "source": [
    "# Convert date columns to datetime\n",
    "df['FirstTrsDate'] = pd.to_datetime(df['FirstTrsDate'])\n",
    "df['LastTrsDate'] = pd.to_datetime(df['LastTrsDate'])\n",
    "\n",
    "# Set current_date to the last date in the dataset\n",
    "current_date = df['LastTrsDate'].max()\n",
    "\n",
    "# Calculate Recency (days since last transaction)\n",
    "df['Recency'] = (current_date - df['LastTrsDate']).dt.days\n",
    "\n",
    "# Calculate Frequency (total number of transactions)\n",
    "frequency_columns = [\n",
    "    'TotalTrsPos', 'CountC2C', 'CountBalance', 'CountPichak', 'CountCharge',\n",
    "    'CountInternet', 'CountBill', 'CountETC', 'CountCarFinesInq', 'CountTraffic',\n",
    "    'CountDFlight', 'CountTrain', 'CountBus', 'CountDestCardC2C'\n",
    "]\n",
    "\n",
    "df['Frequency'] = df[frequency_columns].sum(axis=1)\n",
    "\n",
    "# Calculate Monetary (total amount spent)\n",
    "monetary_columns = [\n",
    "    'TotalAmountPos', 'AmountC2C', 'CMS_Balance', 'AmountCharge',\n",
    "    'AmountInternet', 'AmountBill', 'AmountETC', 'AmountCarFinesInq', 'AmountTraffic',\n",
    "    'AmountDFlight', 'AmountTrain', 'AmountBus', 'AmountC2CasDest'\n",
    "]\n",
    "\n",
    "df['Monetary'] = df[monetary_columns].sum(axis=1)\n",
    "\n",
    "# Define churn: Recency > 30 days\n",
    "churn_threshold = 30\n",
    "df['Churn'] = df['Recency'] > churn_threshold\n",
    "\n",
    "# RFM Segmentation\n",
    "quantiles = df[['Recency', 'Frequency', 'Monetary']].quantile([0.25, 0.5, 0.75]).to_dict()\n",
    "\n",
    "def rfm_segmentation(x, p, d):\n",
    "    if x <= d[p][0.25]:\n",
    "        return 1\n",
    "    elif x <= d[p][0.50]:\n",
    "        return 2\n",
    "    elif x <= d[p][0.75]:\n",
    "        return 3\n",
    "    else:\n",
    "        return 4\n",
    "\n",
    "df['R'] = df['Recency'].apply(rfm_segmentation, args=('Recency', quantiles))\n",
    "df['F'] = df['Frequency'].apply(rfm_segmentation, args=('Frequency', quantiles))\n",
    "df['M'] = df['Monetary'].apply(rfm_segmentation, args=('Monetary', quantiles))\n",
    "\n",
    "# RFM Score\n",
    "df['RFM_Score'] = df['R'].astype(str) + df['F'].astype(str) + df['M'].astype(str)\n",
    "\n",
    "# User Segments\n",
    "def user_segment(row):\n",
    "    if row['Churn']:\n",
    "        return 'Churned'\n",
    "    elif row['RFM_Score'] == '111':\n",
    "        return 'Best Customers'\n",
    "    elif row['R'] == 1 and row['F'] == 1:\n",
    "        return 'Loyal Customers'\n",
    "    elif row['R'] == 4:\n",
    "        return 'At Risk'\n",
    "    elif row['F'] == 4:\n",
    "        return 'High Frequency'\n",
    "    elif row['M'] == 4:\n",
    "        return 'Big Spenders'\n",
    "    else:\n",
    "        return 'Others'\n",
    "\n",
    "df['Segment'] = df.apply(user_segment, axis=1)\n",
    "\n",
    "# Services interaction\n",
    "services_columns = [\n",
    "    'TotalTrsPos', 'CountC2C', 'CountBalance', 'CountPichak', 'CountCharge',\n",
    "    'CountInternet', 'CountBill', 'CountETC', 'CountCarFinesInq', 'CountTraffic',\n",
    "    'CountDFlight', 'CountTrain', 'CountBus', 'CountDestCardC2C'\n",
    "]\n",
    "\n",
    "# Calculate least and most interacted services\n",
    "df['Least_Interacted_Service'] = df[services_columns].idxmin(axis=1)\n",
    "df['Most_Interacted_Service'] = df[services_columns].idxmax(axis=1)\n",
    "\n",
    "# Display the segments\n",
    "segments_summary = df['Segment'].value_counts()\n",
    "print(\"User Segments Summary:\\n\", segments_summary)"
   ]
  },
  {
   "cell_type": "markdown",
   "id": "25b0ea61",
   "metadata": {},
   "source": [
    "## User Segmentation Distribution"
   ]
  },
  {
   "cell_type": "code",
   "execution_count": null,
   "id": "8578246f",
   "metadata": {},
   "outputs": [],
   "source": [
    "# Visualization of Segments\n",
    "plt.figure(figsize=(10, 6))\n",
    "segments_summary.plot(kind='bar', color='skyblue', alpha=0.7)\n",
    "plt.title('User Segments Distribution')\n",
    "plt.xlabel('Segment')\n",
    "plt.ylabel('Count')\n",
    "plt.xticks(rotation=45)\n",
    "plt.tight_layout()\n",
    "\n",
    "# Add labels to the bars\n",
    "for i, v in enumerate(segments_summary):\n",
    "    plt.text(i, v + 0.2, str(v), ha='center', va='bottom', fontsize=10)\n",
    "\n",
    "plt.show()"
   ]
  },
  {
   "cell_type": "markdown",
   "id": "08ae038f",
   "metadata": {},
   "source": [
    "### Explanation of Segments and Their Usage:"
   ]
  },
  {
   "cell_type": "code",
   "execution_count": null,
   "id": "61672a89",
   "metadata": {},
   "outputs": [],
   "source": [
    "explanations = {\n",
    "    'Best Customers': \"These users have high recency, frequency, and monetary scores. They are the most valuable customers.\",\n",
    "    'Loyal Customers': \"These users have high recency and frequency scores but not necessarily high monetary scores. They are loyal and frequently use the app.\",\n",
    "    'At Risk': \"These users have low recency scores, meaning they haven't transacted recently and are at risk of churning.\",\n",
    "    'High Frequency': \"These users have high frequency scores, indicating they transact often but may not spend much per transaction.\",\n",
    "    'Big Spenders': \"These users have high monetary scores, indicating they spend a lot per transaction.\",\n",
    "    'Churned': \"These users have not transacted in the last 30 days and are considered churned.\",\n",
    "    'Others': \"These users do not fit into any of the above categories and have mixed scores.\"\n",
    "}\n",
    "\n",
    "print(\"\\nExplanation of Segments and Their Usage:\\n\")\n",
    "for segment, explanation in explanations.items():\n",
    "    print(f\"{segment}: {explanation}\\n\")\n"
   ]
  },
  {
   "cell_type": "markdown",
   "id": "a899c512",
   "metadata": {},
   "source": [
    "### Overview  Of Segmentation"
   ]
  },
  {
   "cell_type": "code",
   "execution_count": null,
   "id": "76f78974",
   "metadata": {
    "scrolled": false
   },
   "outputs": [],
   "source": [
    "df[['Mobile Key', 'Frequency', 'Monetary', 'RFM_Score', 'Segment', 'Least_Interacted_Service', 'Most_Interacted_Service']]"
   ]
  },
  {
   "cell_type": "markdown",
   "id": "cea6ccfb",
   "metadata": {},
   "source": [
    "# Discount Suggestion For Individuals"
   ]
  },
  {
   "cell_type": "code",
   "execution_count": null,
   "id": "a946b477",
   "metadata": {
    "scrolled": false
   },
   "outputs": [],
   "source": [
    "# Calculate potential profit for each least interacted service\n",
    "profit_margin = 0.09\n",
    "\n",
    "# Get unique least interacted services, excluding NaN values\n",
    "unique_services = df['Least_Interacted_Service'].dropna().unique()\n",
    "\n",
    "# Initialize an empty DataFrame to store discount suggestions\n",
    "discount_suggestions = pd.DataFrame(columns=['Service', 'Potential_Profit', 'Suggested_Discount'])\n",
    "\n",
    "# Calculate the potential profit if a user starts using the least interacted service\n",
    "for service in unique_services:\n",
    "    users = df[df['Least_Interacted_Service'] == service]\n",
    "    if service in users.columns:\n",
    "        potential_profit = users[service].sum() * profit_margin\n",
    "        # Assume a discount that gives the company 5% profit margin on these services instead of 9%\n",
    "        suggested_discount = (potential_profit / users.shape[0]) * (4/9)  # Discount to reduce profit margin from 9% to 5%\n",
    "        new_row = pd.DataFrame({\n",
    "            'Service': [service],\n",
    "            'Potential_Profit': [potential_profit],\n",
    "            'Suggested_Discount': [suggested_discount]\n",
    "        })\n",
    "        discount_suggestions = pd.concat([discount_suggestions, new_row], ignore_index=True)\n",
    "\n",
    "# Display the discount suggestions\n",
    "print(\"Discount Suggestions for Least Interacted Services:\\n\", discount_suggestions)"
   ]
  },
  {
   "cell_type": "markdown",
   "id": "6aaf67a3",
   "metadata": {},
   "source": [
    "# Services Analyze"
   ]
  },
  {
   "cell_type": "markdown",
   "id": "3ed4b496",
   "metadata": {},
   "source": [
    "## 1. Banks"
   ]
  },
  {
   "cell_type": "code",
   "execution_count": null,
   "id": "4cafeb1e",
   "metadata": {},
   "outputs": [],
   "source": [
    "# Split comma-separated values and expand to DataFrame\n",
    "exploded = df['UserOwnedBanks'].str.split(',', expand=True)\n",
    "\n",
    "# Count occurrences of each unique value\n",
    "value_counts = exploded.stack().value_counts().reset_index(name='count')\n",
    "value_counts.columns = ['bank', 'count']\n",
    "\n",
    "# Sort by count in descending order (top 10)\n",
    "top_10_counts = value_counts.sort_values(by='count', ascending=False).head(10)\n",
    "\n",
    "# Reshape and reorder the text for proper display\n",
    "top_10_counts['bank'] = top_10_counts['bank'].apply(lambda x: get_display(arabic_reshaper.reshape(x.strip())))\n",
    "\n",
    "# Create a horizontal bar chart\n",
    "plt.figure(figsize=(10, 6))\n",
    "plt.barh(top_10_counts['bank'], top_10_counts['count'], color='skyblue')\n",
    "plt.xlabel('Count')\n",
    "plt.ylabel('Bank')\n",
    "plt.title('Top 10 Banks by Count')\n",
    "plt.gca().invert_yaxis()  # Invert y-axis to display the top bank at the top\n",
    "plt.grid(axis='x', linestyle='--', alpha=0.6)\n",
    "plt.tight_layout()\n",
    "plt.show()\n"
   ]
  },
  {
   "cell_type": "code",
   "execution_count": null,
   "id": "1584d0a4",
   "metadata": {},
   "outputs": [],
   "source": [
    "# Split comma-separated values and expand to DataFrame\n",
    "exploded = df['BankswithTrs'].str.split(',', expand=True)\n",
    "\n",
    "# Count occurrences of each unique value\n",
    "value_counts = exploded.stack().value_counts().reset_index(name='count')\n",
    "value_counts.columns = ['bank', 'count']\n",
    "\n",
    "# Remove leading and trailing whitespace characters from the bank names\n",
    "value_counts['bank'] = value_counts['bank'].str.strip()\n",
    "\n",
    "# Sort by count in descending order (top 10)\n",
    "top_10_counts = value_counts.sort_values(by='count', ascending=False).head(10)\n",
    "\n",
    "# Use bidi and arabic_reshaper for proper display\n",
    "top_10_counts['bank'] = top_10_counts['bank'].apply(lambda x: get_display(arabic_reshaper.reshape(x)))\n",
    "\n",
    "# Create a horizontal bar chart\n",
    "plt.figure(figsize=(10, 6))\n",
    "plt.barh(top_10_counts['bank'], top_10_counts['count'], color='skyblue')\n",
    "plt.xlabel('Count')\n",
    "plt.ylabel('Bank')\n",
    "plt.title('Top 10 Banks by Transaction Count')\n",
    "plt.gca().invert_yaxis()  # Invert y-axis to display the top bank at the top\n",
    "plt.grid(axis='x', linestyle='--', alpha=0.6)\n",
    "plt.tight_layout()\n",
    "plt.show()"
   ]
  },
  {
   "cell_type": "markdown",
   "id": "a77eb799",
   "metadata": {},
   "source": [
    "## 2. Mobile Application Download Sources"
   ]
  },
  {
   "cell_type": "code",
   "execution_count": null,
   "id": "47b5f4dd",
   "metadata": {},
   "outputs": [],
   "source": [
    "# Filter data for Mobile Operator Id 1 and 2\n",
    "df_filtered = df[df['Mobile Operator Id'].isin([1, 2])]\n",
    "\n",
    "# Get the top 6 application download source\n",
    "top_6_downloads = (df_filtered['Mobile Application Download Source Title']\n",
    "                    .dropna()\n",
    "                    .value_counts()\n",
    "                    .head(6))\n",
    "\n",
    "# Create the first chart\n",
    "plt.figure(figsize=(10, 6))\n",
    "bars = top_6_downloads.plot(kind='bar', color='royalblue')\n",
    "\n",
    "# Remove grid lines and y-axis labels\n",
    "plt.grid(axis='y', linestyle='none', which='both', markevery=None)\n",
    "plt.ylabel('')\n",
    "plt.yticks([])  # Remove y-axis numbers\n",
    "\n",
    "# Annotate bar values inside the bars\n",
    "for bar in bars.patches:\n",
    "    bar.set_height(bar.get_height())\n",
    "    plt.text(bar.get_x() + bar.get_width() / 2, bar.get_height() + 50, int(bar.get_height()), ha='center', va='bottom', fontsize=11)\n",
    "\n",
    "# Set x-axis labels and title\n",
    "plt.xticks(rotation=45, ha='right')\n",
    "plt.xlabel('Mobile Application Download Source Title')\n",
    "plt.title('Top 6 Mobile Application Download Sources')\n",
    "\n",
    "plt.tight_layout()\n",
    "plt.show()"
   ]
  },
  {
   "cell_type": "code",
   "execution_count": null,
   "id": "96d55b89",
   "metadata": {},
   "outputs": [],
   "source": [
    "# 1. Mobile Application Download Source Title\n",
    "source_counts = df['Mobile Application Download Source Title'].value_counts()\n",
    "top_5_sources = source_counts.head(5)\n",
    "other_count = source_counts[5:].sum()\n",
    "\n",
    "# Use pd.concat to combine Series\n",
    "source_counts = pd.concat([top_5_sources, pd.Series({'Others': other_count})])\n",
    "\n",
    "plt.figure(figsize=(8, 6))\n",
    "plt.pie(source_counts, labels=source_counts.index, autopct=\"%1.1f%%\")\n",
    "plt.title(\"Mobile Application Download Source Title Distribution (Top 5 + Others)\")\n",
    "plt.show()"
   ]
  },
  {
   "cell_type": "markdown",
   "id": "3f70ac2f",
   "metadata": {},
   "source": [
    "## 3. Mobile Operator Id"
   ]
  },
  {
   "cell_type": "code",
   "execution_count": null,
   "id": "f34bc415",
   "metadata": {},
   "outputs": [],
   "source": [
    "# 2. Mobile Operator Id distribution (with labels 1 and 2)\n",
    "operator_counts = df['Mobile Operator Id'].value_counts()\n",
    "\n",
    "plt.figure(figsize=(6, 6))\n",
    "plt.bar(operator_counts.index, operator_counts.values)  # Use bar chart for clear x-axis labels\n",
    "\n",
    "# Set custom x-axis labels\n",
    "plt.xticks(operator_counts.index, [str(x) for x in operator_counts.index])  # Convert index to strings\n",
    "\n",
    "plt.xlabel('Mobile Operator Id')\n",
    "plt.ylabel('')  # Remove y-axis labels\n",
    "plt.yticks([])  # Remove y-axis numbers\n",
    "plt.title('Distribution of Mobile Operator Id')\n",
    "plt.grid(axis='y', linestyle='none', which='both', markevery=None)\n",
    "plt.show()"
   ]
  },
  {
   "cell_type": "code",
   "execution_count": null,
   "id": "70c6132f",
   "metadata": {},
   "outputs": [],
   "source": [
    "operator_counts = df['Mobile Operator Id'].value_counts()\n",
    "\n",
    "plt.figure(figsize=(6, 6))\n",
    "plt.pie(operator_counts, labels=operator_counts.index, autopct=\"%1.1f%%\")\n",
    "plt.title(\"Mobile Operator Id Distribution\")\n",
    "plt.show()"
   ]
  },
  {
   "cell_type": "markdown",
   "id": "af7c908f",
   "metadata": {},
   "source": [
    "## 4. Mobile Device OS"
   ]
  },
  {
   "cell_type": "code",
   "execution_count": null,
   "id": "9933aa70",
   "metadata": {},
   "outputs": [],
   "source": [
    "# 3. Mobile Device OS Title (Count with numbers within bars)\n",
    "os_counts = df['Mobile Device OS Title'].value_counts()\n",
    "\n",
    "plt.figure(figsize=(8, 6))\n",
    "os_counts.plot(kind='bar', color='skyblue')\n",
    "\n",
    "# Add labels with counts above each bar\n",
    "for index, value in enumerate(os_counts):\n",
    "    plt.text(index, value + 0.1, str(value), ha='center', va='bottom', fontsize=12)\n",
    "\n",
    "plt.xlabel('Mobile Device OS Title')\n",
    "plt.ylabel('')  # Remove y-axis labels\n",
    "plt.yticks([])  # Remove y-axis numbers\n",
    "plt.title('Distribution of Mobile Device OS Title')\n",
    "plt.grid(axis='y', linestyle='none', which='both', markevery=None)\n",
    "plt.show()"
   ]
  },
  {
   "cell_type": "code",
   "execution_count": null,
   "id": "142a0e80",
   "metadata": {},
   "outputs": [],
   "source": [
    "# 3. Mobile Device OS Title (Count)\n",
    "os_counts = df['Mobile Device OS Title'].value_counts()\n",
    "\n",
    "plt.figure(figsize=(6, 6))\n",
    "plt.pie(os_counts, labels=os_counts.index, autopct=\"%1.1f%%\")\n",
    "plt.title(\"Mobile Device OS Title Distribution\")\n",
    "plt.show()"
   ]
  },
  {
   "cell_type": "markdown",
   "id": "3fb78190",
   "metadata": {},
   "source": [
    "## 5. Services"
   ]
  },
  {
   "cell_type": "code",
   "execution_count": null,
   "id": "cbb51672",
   "metadata": {},
   "outputs": [],
   "source": [
    "# Split comma-separated values and expand to DataFrame\n",
    "exploded = df['TopService'].str.split(',', expand=True)\n",
    "\n",
    "# Count occurrences of each unique value\n",
    "value_counts = exploded.stack().value_counts().reset_index(name='count')\n",
    "value_counts.columns = ['Services', 'count']\n",
    "\n",
    "\n",
    "# Sort by count in descending order (top 10)\n",
    "top_10_counts = value_counts.sort_values(by='count', ascending=False).head(10)\n",
    "\n",
    "# Create a horizontal bar chart\n",
    "plt.figure(figsize=(10, 6))\n",
    "plt.barh(top_10_counts['Services'], top_10_counts['count'], color='skyblue')\n",
    "plt.xlabel('Count')\n",
    "plt.ylabel('Services')\n",
    "plt.title('Top 10 Services')\n",
    "plt.gca().invert_yaxis()  # Invert y-axis to display the top bank at the top\n",
    "plt.grid(axis='x', linestyle='--', alpha=0.6)\n",
    "plt.tight_layout()\n",
    "plt.show()"
   ]
  },
  {
   "cell_type": "code",
   "execution_count": null,
   "id": "9f058620",
   "metadata": {},
   "outputs": [],
   "source": [
    "# Split comma-separated values and expand to DataFrame\n",
    "exploded = df['TopServiceExC2C'].str.split(',', expand=True)\n",
    "\n",
    "# Count occurrences of each unique value\n",
    "value_counts = exploded.stack().value_counts().reset_index(name='count')\n",
    "value_counts.columns = ['Services', 'count']\n",
    "\n",
    "\n",
    "# Sort by count in descending order (top 10)\n",
    "top_10_counts = value_counts.sort_values(by='count', ascending=False).head(10)\n",
    "\n",
    "# Create a horizontal bar chart\n",
    "plt.figure(figsize=(10, 6))\n",
    "plt.barh(top_10_counts['Services'], top_10_counts['count'], color='skyblue')\n",
    "plt.xlabel('Count')\n",
    "plt.ylabel('Services')\n",
    "plt.title('Top 10 Services Except C2C')\n",
    "plt.gca().invert_yaxis()  # Invert y-axis to display the top bank at the top\n",
    "plt.grid(axis='x', linestyle='--', alpha=0.6)\n",
    "plt.tight_layout()\n",
    "plt.show()"
   ]
  },
  {
   "cell_type": "markdown",
   "id": "b05d6147",
   "metadata": {},
   "source": [
    "## 6. Transactions"
   ]
  },
  {
   "cell_type": "markdown",
   "id": "7c35182d",
   "metadata": {},
   "source": [
    "### Total Amount of Services"
   ]
  },
  {
   "cell_type": "code",
   "execution_count": null,
   "id": "e1bcd639",
   "metadata": {
    "scrolled": false
   },
   "outputs": [],
   "source": [
    "# List of columns for comparison\n",
    "transaction_types = {\n",
    "    'Pos': 'TotalAmountPos',\n",
    "    'C2C': 'AmountC2C',\n",
    "    'Charge': 'AmountCharge',\n",
    "    'Internet': 'AmountInternet',\n",
    "    'Bill': 'AmountBill',\n",
    "    'ETC': 'AmountETC',\n",
    "    'CarFinesInq': 'AmountCarFinesInq',\n",
    "    'Traffic': 'AmountTraffic',\n",
    "    'Flight': 'AmountDFlight',\n",
    "    'Train': 'AmountTrain',\n",
    "    'Bus': 'AmountBus',\n",
    "}\n",
    "\n",
    "\n",
    "# Visualization for Comparing Total Counts\n",
    "plt.figure(figsize=(18, 6))\n",
    "\n",
    "# Plot for all services\n",
    "plt.subplot(1, 2, 1)\n",
    "amounts = [df[col].sum() for col in transaction_types.values()]\n",
    "plt.bar(transaction_types.keys(), amounts, color='skyblue')\n",
    "plt.xlabel('Service Type')\n",
    "plt.ylabel('Total Amount')\n",
    "plt.title('Total Amount by Service Type')\n",
    "plt.xticks(rotation=45)\n",
    "plt.show()"
   ]
  },
  {
   "cell_type": "code",
   "execution_count": null,
   "id": "f00850d6",
   "metadata": {},
   "outputs": [],
   "source": [
    "# Visualization for Comparing Amounts\n",
    "plt.figure(figsize=(18, 10))\n",
    "\n",
    "# Plot for all services excluding C2C and Pos\n",
    "plt.subplot(2, 2, 1)\n",
    "non_c2c_pos_types = {k: v for k, v in transaction_types.items() if k not in ['C2C', 'Pos']}\n",
    "amounts_non_c2c_pos = [df[col].sum() for col in non_c2c_pos_types.values()]\n",
    "sorted_indices = sorted(range(len(amounts_non_c2c_pos)), key=lambda k: amounts_non_c2c_pos[k], reverse=True)\n",
    "sorted_non_c2c_pos_keys = [list(non_c2c_pos_types.keys())[i] for i in sorted_indices]\n",
    "sorted_amounts_non_c2c_pos = [amounts_non_c2c_pos[i] for i in sorted_indices]\n",
    "\n",
    "bars = plt.bar(sorted_non_c2c_pos_keys, sorted_amounts_non_c2c_pos, color='skyblue')\n",
    "plt.xlabel('Service Type')\n",
    "plt.ylabel('Total Amount')\n",
    "plt.title('Total Amount by Service Type (Excluding C2C and Pos)')\n",
    "plt.xticks(rotation=45)\n",
    "\n",
    "plt.tight_layout()\n",
    "plt.show()"
   ]
  },
  {
   "cell_type": "code",
   "execution_count": null,
   "id": "26986f7e",
   "metadata": {},
   "outputs": [],
   "source": [
    "# Visualization for Comparing Amounts\n",
    "plt.figure(figsize=(18, 10))\n",
    "\n",
    "# Pie chart excluding C2C and Pos\n",
    "plt.subplot(2, 2, 2)\n",
    "top_5_amounts = sorted_amounts_non_c2c_pos[:5]\n",
    "top_5_keys = sorted_non_c2c_pos_keys[:5]\n",
    "other_amounts = sum(sorted_amounts_non_c2c_pos[5:])\n",
    "top_5_amounts.append(other_amounts)\n",
    "top_5_keys.append('Others')\n",
    "\n",
    "plt.pie(top_5_amounts, labels=top_5_keys, autopct='%1.1f%%', colors=plt.cm.Paired.colors)\n",
    "plt.title('Total Amount Distribution (Top 5 and Others, Excluding C2C and Pos)')\n",
    "\n",
    "plt.tight_layout()\n",
    "plt.show()"
   ]
  },
  {
   "cell_type": "markdown",
   "id": "646bcc52",
   "metadata": {},
   "source": [
    "### Total Count Services"
   ]
  },
  {
   "cell_type": "code",
   "execution_count": null,
   "id": "fef5934c",
   "metadata": {},
   "outputs": [],
   "source": [
    "# List of columns for comparison\n",
    "transaction_types = {\n",
    "    'Pos': 'TotalTrsPos',\n",
    "    'C2C': 'CountC2C',\n",
    "    'Pichak': 'CountPichak',\n",
    "    'Charge': 'CountCharge',\n",
    "    'Internet': 'CountInternet',\n",
    "    'Bill': 'CountBill',\n",
    "    'ETC': 'CountETC',\n",
    "    'CarFinesInq': 'CountCarFinesInq',\n",
    "    'Traffic': 'CountTraffic',\n",
    "    'Flight': 'CountDFlight',\n",
    "    'Train': 'CountTrain',\n",
    "    'Bus': 'CountBus',\n",
    "}\n",
    "\n",
    "# Visualization for Comparing Total Counts\n",
    "plt.figure(figsize=(18, 6))\n",
    "\n",
    "# Plot for all services\n",
    "plt.subplot(1, 2, 1)\n",
    "counts = [df[col].sum() for col in transaction_types.values()]\n",
    "plt.bar(transaction_types.keys(), counts, color='skyblue')\n",
    "plt.xlabel('Service Type')\n",
    "plt.ylabel('Total Count')\n",
    "plt.title('Total Count by Service Type')\n",
    "plt.xticks(rotation=45)\n",
    "plt.show()"
   ]
  },
  {
   "cell_type": "code",
   "execution_count": null,
   "id": "2d5c4ecd",
   "metadata": {},
   "outputs": [],
   "source": [
    "# Visualization for Comparing Total Counts\n",
    "plt.figure(figsize=(16, 10))\n",
    "\n",
    "# Plot for all services excluding C2C and Pos\n",
    "plt.subplot(2, 2, 1)\n",
    "non_c2c_pos_types = {k: v for k, v in transaction_types.items() if k not in ['C2C', 'Pos']}\n",
    "counts_non_c2c_pos = [df[col].sum() for col in non_c2c_pos_types.values()]\n",
    "sorted_indices = sorted(range(len(counts_non_c2c_pos)), key=lambda k: counts_non_c2c_pos[k], reverse=True)\n",
    "sorted_non_c2c_pos_keys = [list(non_c2c_pos_types.keys())[i] for i in sorted_indices]\n",
    "sorted_counts_non_c2c_pos = [counts_non_c2c_pos[i] for i in sorted_indices]\n",
    "\n",
    "bars = plt.bar(sorted_non_c2c_pos_keys, sorted_counts_non_c2c_pos, color='skyblue')\n",
    "plt.xlabel('Service Type')\n",
    "plt.ylabel('Total Count')\n",
    "plt.title('Total Count by Service Type (Excluding C2C and Pos)')\n",
    "plt.xticks(rotation=45)\n",
    "plt.show()"
   ]
  },
  {
   "cell_type": "code",
   "execution_count": null,
   "id": "fbcfb38d",
   "metadata": {},
   "outputs": [],
   "source": [
    "# Pie chart excluding C2C and Pos\n",
    "plt.figure(figsize=(18, 10))\n",
    "\n",
    "plt.subplot(2, 2, 2)\n",
    "top_5_counts = sorted_counts_non_c2c_pos[:5]\n",
    "top_5_keys = sorted_non_c2c_pos_keys[:5]\n",
    "other_counts = sum(sorted_counts_non_c2c_pos[5:])\n",
    "top_5_counts.append(other_counts)\n",
    "top_5_keys.append('Others')\n",
    "\n",
    "plt.pie(top_5_counts, labels=top_5_keys, autopct='%1.1f%%', colors=plt.cm.Paired.colors)\n",
    "plt.title('Total Count Distribution (Top 5 and Others, Excluding C2C and Pos)')\n",
    "\n",
    "plt.tight_layout()\n",
    "plt.show()"
   ]
  },
  {
   "cell_type": "markdown",
   "id": "cc1f4392",
   "metadata": {},
   "source": [
    "### 7. Region"
   ]
  },
  {
   "cell_type": "code",
   "execution_count": null,
   "id": "0f5e077c",
   "metadata": {},
   "outputs": [],
   "source": [
    "# Assuming df is your DataFrame and it has a column 'FirstProvince'\n",
    "province_count = df['FirstProvince'].value_counts().head(10)\n",
    "\n",
    "# Reshape the Arabic text for proper display\n",
    "reshaped_provinces = [get_display(arabic_reshaper.reshape(x)) for x in province_count.index]\n",
    "\n",
    "# Plotting\n",
    "province_count.plot(kind='barh', color='skyblue')  \n",
    "plt.xlabel('Count')  \n",
    "plt.ylabel('Province')  \n",
    "plt.title('Top 10 Region')\n",
    "plt.yticks(range(len(reshaped_provinces)), reshaped_provinces) \n",
    "\n",
    "# Reverse the y-axis\n",
    "plt.gca().invert_yaxis()\n",
    "\n",
    "plt.show()"
   ]
  },
  {
   "cell_type": "markdown",
   "id": "bbd06554",
   "metadata": {},
   "source": [
    "### 8. Guilds"
   ]
  },
  {
   "cell_type": "code",
   "execution_count": null,
   "id": "bd2631e0",
   "metadata": {},
   "outputs": [],
   "source": [
    "# Split the 'AllGuild' column by ',' and count the occurrences of each guild\n",
    "guild_counts = df['AllGuild'].str.split(', ').explode().value_counts()\n",
    "\n",
    "# Get top 5 guilds by count\n",
    "top_guilds = guild_counts.head(5)\n",
    "\n",
    "# Plot the top 5 guilds\n",
    "plt.figure(figsize=(10, 6))\n",
    "top_guilds.plot(kind='bar', color='skyblue')\n",
    "plt.title('Top 5 Guilds by Count')\n",
    "plt.xlabel('Guild')\n",
    "plt.ylabel('Count')\n",
    "plt.xticks(rotation=45)\n",
    "plt.show()"
   ]
  },
  {
   "cell_type": "code",
   "execution_count": null,
   "id": "cc851eac",
   "metadata": {},
   "outputs": [],
   "source": [
    "# Save to an Excel file\n",
    "df.to_excel('User Segmentation.xlsx', index=False)"
   ]
  },
  {
   "cell_type": "code",
   "execution_count": null,
   "id": "14aba792",
   "metadata": {},
   "outputs": [],
   "source": []
  }
 ],
 "metadata": {
  "kernelspec": {
   "display_name": "Python 3 (ipykernel)",
   "language": "python",
   "name": "python3"
  },
  "language_info": {
   "codemirror_mode": {
    "name": "ipython",
    "version": 3
   },
   "file_extension": ".py",
   "mimetype": "text/x-python",
   "name": "python",
   "nbconvert_exporter": "python",
   "pygments_lexer": "ipython3",
   "version": "3.11.8"
  }
 },
 "nbformat": 4,
 "nbformat_minor": 5
}
