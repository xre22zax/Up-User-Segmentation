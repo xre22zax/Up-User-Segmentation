{
 "cells": [
  {
   "cell_type": "code",
   "execution_count": 12,
   "id": "e2a9bda3",
   "metadata": {},
   "outputs": [
    {
     "name": "stdout",
     "output_type": "stream",
     "text": [
      "  FirstTrsDate LastTrsDate\n",
      "0   2022-03-27  2023-06-16\n",
      "1          NaT  2023-07-23\n",
      "2   2022-03-21  2023-07-23\n",
      "3   2022-03-21  2023-07-23\n",
      "4   2023-03-28  2023-03-28\n",
      "5          NaT  2023-05-04\n",
      "6          NaT         NaT\n",
      "7          NaT         NaT\n",
      "8   2023-02-17  2023-07-24\n",
      "9          NaT         NaT\n"
     ]
    }
   ],
   "source": [
    "import pandas as pd\n",
    "import jdatetime\n",
    "\n",
    "import pandas as pd\n",
    "import numpy as np\n",
    "\n",
    "data = {\n",
    "    'FirstTrsDate': [14010107, np.nan, 14010101, 14010101, 14020108, np.nan, np.nan, np.nan, 14011128, np.nan],\n",
    "    'LastTrsDate': [14020326, 14020501, 14020501, 14020501, 14020108, 14020214, np.nan, np.nan, 14020502, np.nan]\n",
    "}\n",
    "\n",
    "df = pd.DataFrame(data)\n",
    "\n",
    "# Convert integer date format to string date format\n",
    "df['FirstTrsDate'] = df['FirstTrsDate'].apply(lambda x: str(int(x)) if not np.isnan(x) else 'nan')\n",
    "df['LastTrsDate'] = df['LastTrsDate'].apply(lambda x: str(int(x)) if not np.isnan(x) else 'nan')\n",
    "\n",
    "# Function to convert Jalali date string to Gregorian datetime\n",
    "def convert_jalali_to_gregorian(date_str):\n",
    "    if pd.notnull(date_str):\n",
    "        try:\n",
    "            # Extract year, month, day from the string\n",
    "            year = int(date_str[:4])\n",
    "            month = int(date_str[4:6])\n",
    "            day = int(date_str[6:8])\n",
    "            # Convert Jalali date to Gregorian date\n",
    "            gregorian_date = jdatetime.date(year, month, day).togregorian()\n",
    "            return pd.to_datetime(gregorian_date)\n",
    "        except ValueError:\n",
    "            return pd.NaT\n",
    "    return pd.NaT\n",
    "\n",
    "# Apply the conversion function to the relevant columns\n",
    "df['FirstTrsDate'] = df['FirstTrsDate'].apply(convert_jalali_to_gregorian)\n",
    "df['LastTrsDate'] = df['LastTrsDate'].apply(convert_jalali_to_gregorian)\n",
    "\n",
    "# Display the DataFrame\n",
    "print(df)\n"
   ]
  },
  {
   "cell_type": "code",
   "execution_count": null,
   "id": "7a56c35b",
   "metadata": {},
   "outputs": [],
   "source": []
  }
 ],
 "metadata": {
  "kernelspec": {
   "display_name": "Python 3 (ipykernel)",
   "language": "python",
   "name": "python3"
  },
  "language_info": {
   "codemirror_mode": {
    "name": "ipython",
    "version": 3
   },
   "file_extension": ".py",
   "mimetype": "text/x-python",
   "name": "python",
   "nbconvert_exporter": "python",
   "pygments_lexer": "ipython3",
   "version": "3.11.8"
  }
 },
 "nbformat": 4,
 "nbformat_minor": 5
}
